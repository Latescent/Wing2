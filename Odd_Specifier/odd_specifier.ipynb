{
 "cells": [
  {
   "cell_type": "code",
   "execution_count": 1,
   "metadata": {},
   "outputs": [],
   "source": [
    "import cv2, sys, os, concurrent.futures, numpy as np\n",
    "from sklearn.ensemble import IsolationForest\n",
    "from skimage import filters\n",
    "from scipy.spatial import distance\n",
    "from intersections import find_intersections_via_hit_or_miss\n",
    "\n",
    "input_dir = \"/home/neutral/Documents/Wings/modified_wings_labeled\"\n",
    "clean_dir = \"/home/neutral/Documents/Wings/Mod-labeled-Clean\"\n",
    "noisy_dir = \"/home/neutral/Documents/Wings/Mod-labeled-Noisy\"\n",
    "\n",
    "os.makedirs(clean_dir, exist_ok=True)\n",
    "os.makedirs(noisy_dir, exist_ok=True)\n",
    "\n",
    "counter = 0\n",
    "\n",
    "def load_images():\n",
    "    global input_dir, clean_dir, noisy_dir\n",
    "\n",
    "    # Read every image\n",
    "    images = [os.path.join(input_dir, f) for f in os.listdir(input_dir) if f.endswith(('.png', '.jpg', '.jpeg', '.bmp'))]\n",
    "    images.sort()\n",
    "\n",
    "    return images\n",
    "\n",
    "def progress_bar(len, counter, txt=\"Loading:\"):\n",
    "    percentage = int(counter * 100 / len)\n",
    "    print(f\"{txt} |{'='*percentage}{'-'*(100-percentage)}| {percentage}%\", end='\\r')\n",
    "    if counter == len:\n",
    "        sys.stdout.write(f\"\\r{txt} 100%\\033[K\\n\")"
   ]
  },
  {
   "cell_type": "code",
   "execution_count": 2,
   "metadata": {},
   "outputs": [],
   "source": [
    "def data_generator():\n",
    "    data = list()\n",
    "    images = load_images()\n",
    "\n",
    "    print(\"Extracting image intersections:\")\n",
    "\n",
    "    # Helper function to return a tuple that contains the image name and its intersections\n",
    "    def single_image_intersections(image_path):\n",
    "        global counter\n",
    "        # image_path = os.path.join(input_dir, image_path)\n",
    "        image = cv2.imread(image_path, cv2.IMREAD_GRAYSCALE)\n",
    "        intersections = find_intersections_via_hit_or_miss(image)\n",
    "        counter += 1\n",
    "\n",
    "        # Simple console animation to make the waiting time entertaining :D\n",
    "        progress_bar(len(images), counter)\n",
    "\n",
    "        return (os.path.basename(image_path), intersections)\n",
    "    \n",
    "    # Parallel intersection extraction\n",
    "    def parallel_image_processing():\n",
    "        with concurrent.futures.ThreadPoolExecutor() as executor:\n",
    "            result = list(executor.map(single_image_intersections, images))\n",
    "        return result\n",
    "    \n",
    "    return parallel_image_processing()"
   ]
  },
  {
   "cell_type": "code",
   "execution_count": 3,
   "metadata": {},
   "outputs": [],
   "source": [
    "def min_distance(coord, other_object):\n",
    "    return min([distance.euclidean(coord, other_coord) for other_coord in other_object])\n",
    "\n",
    "# Function to find the closest matches of coordinates between two objects\n",
    "def compare_objects(object1, object2, threshold=1.0):\n",
    "    matched_coords = 0\n",
    "    for coord in object1:\n",
    "        if min_distance(coord, object2) < threshold:\n",
    "            matched_coords += 1\n",
    "    return matched_coords\n",
    "\n",
    "# Function to identify and exclude odd objects\n",
    "def exclude_odd_objects(objects_list, match_threshold=0.8, distance_threshold=10):\n",
    "    valid_objects = []\n",
    "    for obj in objects_list:\n",
    "        match_count = 0\n",
    "        for other_obj in objects_list:\n",
    "            if obj is not other_obj:\n",
    "                # Compare each object with all others\n",
    "                matched = compare_objects(obj, other_obj, distance_threshold)\n",
    "                if matched / len(obj) >= match_threshold:\n",
    "                    match_count += 1\n",
    "        # Exclude object if not enough matches found\n",
    "        if match_count >= len(objects_list) * match_threshold:\n",
    "            valid_objects.append(obj)\n",
    "    return valid_objects"
   ]
  },
  {
   "cell_type": "code",
   "execution_count": 4,
   "metadata": {},
   "outputs": [
    {
     "name": "stdout",
     "output_type": "stream",
     "text": [
      "Extracting image intersections:\n",
      "Loading: 100%\u001b[K==============================================================================================| 100%oading: |===================================================================================================-| 99%\n"
     ]
    }
   ],
   "source": [
    "data = data_generator()\n",
    "data = [obj[1] for obj in data]"
   ]
  },
  {
   "cell_type": "code",
   "execution_count": 5,
   "metadata": {},
   "outputs": [
    {
     "ename": "ValueError",
     "evalue": "min() iterable argument is empty",
     "output_type": "error",
     "traceback": [
      "\u001b[0;31m---------------------------------------------------------------------------\u001b[0m",
      "\u001b[0;31mValueError\u001b[0m                                Traceback (most recent call last)",
      "Cell \u001b[0;32mIn[5], line 1\u001b[0m\n\u001b[0;32m----> 1\u001b[0m \u001b[38;5;28mprint\u001b[39m(\u001b[43mexclude_odd_objects\u001b[49m\u001b[43m(\u001b[49m\u001b[43mdata\u001b[49m\u001b[43m)\u001b[49m)\n",
      "Cell \u001b[0;32mIn[3], line 20\u001b[0m, in \u001b[0;36mexclude_odd_objects\u001b[0;34m(objects_list, match_threshold, distance_threshold)\u001b[0m\n\u001b[1;32m     17\u001b[0m \u001b[38;5;28;01mfor\u001b[39;00m other_obj \u001b[38;5;129;01min\u001b[39;00m objects_list:\n\u001b[1;32m     18\u001b[0m     \u001b[38;5;28;01mif\u001b[39;00m obj \u001b[38;5;129;01mis\u001b[39;00m \u001b[38;5;129;01mnot\u001b[39;00m other_obj:\n\u001b[1;32m     19\u001b[0m         \u001b[38;5;66;03m# Compare each object with all others\u001b[39;00m\n\u001b[0;32m---> 20\u001b[0m         matched \u001b[38;5;241m=\u001b[39m \u001b[43mcompare_objects\u001b[49m\u001b[43m(\u001b[49m\u001b[43mobj\u001b[49m\u001b[43m,\u001b[49m\u001b[43m \u001b[49m\u001b[43mother_obj\u001b[49m\u001b[43m,\u001b[49m\u001b[43m \u001b[49m\u001b[43mdistance_threshold\u001b[49m\u001b[43m)\u001b[49m\n\u001b[1;32m     21\u001b[0m         \u001b[38;5;28;01mif\u001b[39;00m matched \u001b[38;5;241m/\u001b[39m \u001b[38;5;28mlen\u001b[39m(obj) \u001b[38;5;241m>\u001b[39m\u001b[38;5;241m=\u001b[39m match_threshold:\n\u001b[1;32m     22\u001b[0m             match_count \u001b[38;5;241m+\u001b[39m\u001b[38;5;241m=\u001b[39m \u001b[38;5;241m1\u001b[39m\n",
      "Cell \u001b[0;32mIn[3], line 8\u001b[0m, in \u001b[0;36mcompare_objects\u001b[0;34m(object1, object2, threshold)\u001b[0m\n\u001b[1;32m      6\u001b[0m matched_coords \u001b[38;5;241m=\u001b[39m \u001b[38;5;241m0\u001b[39m\n\u001b[1;32m      7\u001b[0m \u001b[38;5;28;01mfor\u001b[39;00m coord \u001b[38;5;129;01min\u001b[39;00m object1:\n\u001b[0;32m----> 8\u001b[0m     \u001b[38;5;28;01mif\u001b[39;00m \u001b[43mmin_distance\u001b[49m\u001b[43m(\u001b[49m\u001b[43mcoord\u001b[49m\u001b[43m,\u001b[49m\u001b[43m \u001b[49m\u001b[43mobject2\u001b[49m\u001b[43m)\u001b[49m \u001b[38;5;241m<\u001b[39m threshold:\n\u001b[1;32m      9\u001b[0m         matched_coords \u001b[38;5;241m+\u001b[39m\u001b[38;5;241m=\u001b[39m \u001b[38;5;241m1\u001b[39m\n\u001b[1;32m     10\u001b[0m \u001b[38;5;28;01mreturn\u001b[39;00m matched_coords\n",
      "Cell \u001b[0;32mIn[3], line 2\u001b[0m, in \u001b[0;36mmin_distance\u001b[0;34m(coord, other_object)\u001b[0m\n\u001b[1;32m      1\u001b[0m \u001b[38;5;28;01mdef\u001b[39;00m \u001b[38;5;21mmin_distance\u001b[39m(coord, other_object):\n\u001b[0;32m----> 2\u001b[0m     \u001b[38;5;28;01mreturn\u001b[39;00m \u001b[38;5;28;43mmin\u001b[39;49m\u001b[43m(\u001b[49m\u001b[43m[\u001b[49m\u001b[43mdistance\u001b[49m\u001b[38;5;241;43m.\u001b[39;49m\u001b[43meuclidean\u001b[49m\u001b[43m(\u001b[49m\u001b[43mcoord\u001b[49m\u001b[43m,\u001b[49m\u001b[43m \u001b[49m\u001b[43mother_coord\u001b[49m\u001b[43m)\u001b[49m\u001b[43m \u001b[49m\u001b[38;5;28;43;01mfor\u001b[39;49;00m\u001b[43m \u001b[49m\u001b[43mother_coord\u001b[49m\u001b[43m \u001b[49m\u001b[38;5;129;43;01min\u001b[39;49;00m\u001b[43m \u001b[49m\u001b[43mother_object\u001b[49m\u001b[43m]\u001b[49m\u001b[43m)\u001b[49m\n",
      "\u001b[0;31mValueError\u001b[0m: min() iterable argument is empty"
     ]
    }
   ],
   "source": [
    "print(exclude_odd_objects(data))"
   ]
  }
 ],
 "metadata": {
  "kernelspec": {
   "display_name": "venv",
   "language": "python",
   "name": "python3"
  },
  "language_info": {
   "codemirror_mode": {
    "name": "ipython",
    "version": 3
   },
   "file_extension": ".py",
   "mimetype": "text/x-python",
   "name": "python",
   "nbconvert_exporter": "python",
   "pygments_lexer": "ipython3",
   "version": "3.12.6"
  }
 },
 "nbformat": 4,
 "nbformat_minor": 2
}
